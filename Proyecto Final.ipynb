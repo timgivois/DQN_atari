{
 "cells": [
  {
   "cell_type": "code",
   "execution_count": 2,
   "metadata": {},
   "outputs": [
    {
     "data": {
      "text/plain": [
       "array([[[0, 0, 0],\n",
       "        [0, 0, 0],\n",
       "        [0, 0, 0],\n",
       "        ...,\n",
       "        [0, 0, 0],\n",
       "        [0, 0, 0],\n",
       "        [0, 0, 0]],\n",
       "\n",
       "       [[0, 0, 0],\n",
       "        [0, 0, 0],\n",
       "        [0, 0, 0],\n",
       "        ...,\n",
       "        [0, 0, 0],\n",
       "        [0, 0, 0],\n",
       "        [0, 0, 0]],\n",
       "\n",
       "       [[0, 0, 0],\n",
       "        [0, 0, 0],\n",
       "        [0, 0, 0],\n",
       "        ...,\n",
       "        [0, 0, 0],\n",
       "        [0, 0, 0],\n",
       "        [0, 0, 0]],\n",
       "\n",
       "       ...,\n",
       "\n",
       "       [[0, 0, 0],\n",
       "        [0, 0, 0],\n",
       "        [0, 0, 0],\n",
       "        ...,\n",
       "        [0, 0, 0],\n",
       "        [0, 0, 0],\n",
       "        [0, 0, 0]],\n",
       "\n",
       "       [[0, 0, 0],\n",
       "        [0, 0, 0],\n",
       "        [0, 0, 0],\n",
       "        ...,\n",
       "        [0, 0, 0],\n",
       "        [0, 0, 0],\n",
       "        [0, 0, 0]],\n",
       "\n",
       "       [[0, 0, 0],\n",
       "        [0, 0, 0],\n",
       "        [0, 0, 0],\n",
       "        ...,\n",
       "        [0, 0, 0],\n",
       "        [0, 0, 0],\n",
       "        [0, 0, 0]]], dtype=uint8)"
      ]
     },
     "execution_count": 2,
     "metadata": {},
     "output_type": "execute_result"
    }
   ],
   "source": [
    "import gym\n",
    "import tensorflow as tf\n",
    "import numpy as np\n",
    "import time\n",
    "import matplotlib.pyplot as plt\n",
    "\n",
    "env = gym.make('Breakout-v0')\n",
    "env.reset()"
   ]
  },
  {
   "cell_type": "code",
   "execution_count": 4,
   "metadata": {},
   "outputs": [
    {
     "data": {
      "text/plain": [
       "True"
      ]
     },
     "execution_count": 4,
     "metadata": {},
     "output_type": "execute_result"
    }
   ],
   "source": [
    "# env.render()"
   ]
  },
  {
   "cell_type": "code",
   "execution_count": 67,
   "metadata": {},
   "outputs": [
    {
     "name": "stdout",
     "output_type": "stream",
     "text": [
      "Action Space Discrete(4)\n",
      "State Space Box(210, 160, 3)\n",
      "Action Meaning ['NOOP', 'FIRE', 'RIGHT', 'LEFT']\n"
     ]
    }
   ],
   "source": [
    "print(\"Action Space {}\".format(env.action_space))\n",
    "print(\"State Space {}\".format(env.observation_space))\n",
    "print(\"Action Meaning {}\".format(\n",
    "env.unwrapped.get_action_meanings()))"
   ]
  },
  {
   "cell_type": "code",
   "execution_count": 68,
   "metadata": {},
   "outputs": [
    {
     "data": {
      "image/png": "[encoded data removed]",
      "text/plain": [
       "<Figure size 432x288 with 1 Axes>"
      ]
     },
     "metadata": {
      "needs_background": "light"
     },
     "output_type": "display_data"
    }
   ],
   "source": [
    "def show_image(board):    \n",
    "    plt.imshow(board)\n",
    "    plt.show()\n",
    "\n",
    "def show_gray_image(board):\n",
    "    plt.imshow(board, cmap = plt.get_cmap('gray'))\n",
    "    plt.show()\n",
    "    \n",
    "\n",
    "show_image(env.reset())\n"
   ]
  },
  {
   "cell_type": "code",
   "execution_count": 69,
   "metadata": {},
   "outputs": [
    {
     "data": {
      "image/png": "[encoded data removed]",
      "text/plain": [
       "<Figure size 432x288 with 1 Axes>"
      ]
     },
     "metadata": {
      "needs_background": "light"
     },
     "output_type": "display_data"
    },
    {
     "data": {
      "text/plain": [
       "(82, 75)"
      ]
     },
     "execution_count": 69,
     "metadata": {},
     "output_type": "execute_result"
    }
   ],
   "source": [
    "def rgb2gray(rgb):\n",
    "    return np.dot(rgb[...,:3], [0.299, 0.587, 0.114])\n",
    "\n",
    "def preprocess(image):\n",
    "    # crop and downsample image\n",
    "    new_image = image[31:195:2, 5:155:2]\n",
    "    # change image colors\n",
    "    new_image = rgb2gray(new_image)\n",
    "    # walls should be 142 in rgb and points should be 74\n",
    "    new_image[np.logical_and(new_image[:,:] != 0, new_image[:,:]!=142)] = 74\n",
    "    \n",
    "    return new_image\n",
    "\n",
    "preprocessed = preprocess(env.reset())\n",
    "show_gray_image(preprocessed)\n",
    "np.shape(preprocessed)"
   ]
  },
  {
   "cell_type": "code",
   "execution_count": null,
   "metadata": {},
   "outputs": [
    {
     "name": "stderr",
     "output_type": "stream",
     "text": [
      "/Users/timgivois/personal/venv3/lib/python3.5/site-packages/tensorflow/python/client/session.py:1702: UserWarning: An interactive session is already active. This can cause out-of-memory errors in some cases. You must explicitly call `InteractiveSession.close()` to release resources held by the other session(s).\n",
      "  warnings.warn('An interactive session is already active. This can '\n"
     ]
    },
    {
     "name": "stdout",
     "output_type": "stream",
     "text": [
      "game: 0/10000, actions_made: 168 score: 0.0\n",
      "game: 1/10000, actions_made: 180 score: 0.0\n",
      "game: 2/10000, actions_made: 293 score: 2.0\n",
      "game: 3/10000, actions_made: 164 score: 0.0\n",
      "game: 4/10000, actions_made: 356 score: 3.0\n",
      "game: 5/10000, actions_made: 400 score: 4.0\n",
      "game: 6/10000, actions_made: 321 score: 3.0\n",
      "game: 7/10000, actions_made: 358 score: 3.0\n",
      "game: 8/10000, actions_made: 335 score: 3.0\n",
      "game: 9/10000, actions_made: 263 score: 2.0\n",
      "game: 10/10000, actions_made: 333 score: 3.0\n",
      "game: 11/10000, actions_made: 204 score: 1.0\n",
      "game: 12/10000, actions_made: 190 score: 0.0\n",
      "game: 13/10000, actions_made: 303 score: 2.0\n",
      "game: 14/10000, actions_made: 236 score: 1.0\n",
      "game: 15/10000, actions_made: 175 score: 0.0\n",
      "game: 16/10000, actions_made: 175 score: 0.0\n",
      "game: 17/10000, actions_made: 279 score: 2.0\n",
      "game: 18/10000, actions_made: 187 score: 0.0\n",
      "game: 19/10000, actions_made: 182 score: 0.0\n",
      "game: 20/10000, actions_made: 312 score: 3.0\n",
      "game: 21/10000, actions_made: 173 score: 0.0\n",
      "game: 22/10000, actions_made: 295 score: 2.0\n",
      "game: 23/10000, actions_made: 392 score: 4.0\n",
      "game: 24/10000, actions_made: 175 score: 0.0\n",
      "game: 25/10000, actions_made: 165 score: 0.0\n",
      "game: 26/10000, actions_made: 366 score: 3.0\n",
      "game: 27/10000, actions_made: 186 score: 0.0\n",
      "game: 28/10000, actions_made: 417 score: 5.0\n",
      "game: 29/10000, actions_made: 169 score: 0.0\n",
      "game: 30/10000, actions_made: 178 score: 0.0\n",
      "game: 31/10000, actions_made: 235 score: 1.0\n",
      "game: 32/10000, actions_made: 310 score: 3.0\n",
      "game: 33/10000, actions_made: 175 score: 0.0\n",
      "game: 34/10000, actions_made: 292 score: 2.0\n",
      "game: 35/10000, actions_made: 300 score: 2.0\n",
      "game: 36/10000, actions_made: 349 score: 4.0\n",
      "game: 37/10000, actions_made: 210 score: 1.0\n",
      "game: 38/10000, actions_made: 214 score: 1.0\n",
      "game: 39/10000, actions_made: 278 score: 2.0\n",
      "game: 40/10000, actions_made: 193 score: 0.0\n",
      "game: 41/10000, actions_made: 312 score: 3.0\n",
      "game: 42/10000, actions_made: 234 score: 1.0\n",
      "game: 43/10000, actions_made: 237 score: 1.0\n",
      "game: 44/10000, actions_made: 251 score: 1.0\n",
      "game: 45/10000, actions_made: 515 score: 6.0\n",
      "game: 46/10000, actions_made: 269 score: 2.0\n",
      "game: 47/10000, actions_made: 212 score: 1.0\n",
      "game: 48/10000, actions_made: 169 score: 0.0\n",
      "game: 49/10000, actions_made: 173 score: 0.0\n",
      "game: 50/10000, actions_made: 165 score: 0.0\n",
      "game: 51/10000, actions_made: 166 score: 0.0\n",
      "game: 52/10000, actions_made: 178 score: 0.0\n",
      "game: 53/10000, actions_made: 378 score: 3.0\n",
      "game: 54/10000, actions_made: 267 score: 2.0\n",
      "game: 55/10000, actions_made: 213 score: 1.0\n",
      "game: 56/10000, actions_made: 173 score: 0.0\n",
      "game: 57/10000, actions_made: 333 score: 2.0\n",
      "game: 58/10000, actions_made: 223 score: 1.0\n",
      "game: 59/10000, actions_made: 232 score: 1.0\n",
      "game: 60/10000, actions_made: 245 score: 1.0\n",
      "game: 61/10000, actions_made: 290 score: 2.0\n",
      "game: 62/10000, actions_made: 274 score: 2.0\n",
      "game: 63/10000, actions_made: 223 score: 1.0\n",
      "game: 64/10000, actions_made: 172 score: 0.0\n",
      "game: 65/10000, actions_made: 355 score: 3.0\n",
      "game: 66/10000, actions_made: 232 score: 1.0\n",
      "game: 67/10000, actions_made: 203 score: 1.0\n",
      "game: 68/10000, actions_made: 173 score: 0.0\n",
      "game: 69/10000, actions_made: 271 score: 2.0\n",
      "game: 70/10000, actions_made: 173 score: 0.0\n",
      "game: 71/10000, actions_made: 203 score: 1.0\n",
      "game: 72/10000, actions_made: 288 score: 2.0\n",
      "game: 73/10000, actions_made: 270 score: 2.0\n",
      "game: 74/10000, actions_made: 244 score: 1.0\n",
      "game: 75/10000, actions_made: 241 score: 1.0\n",
      "game: 76/10000, actions_made: 173 score: 0.0\n",
      "game: 77/10000, actions_made: 299 score: 2.0\n",
      "game: 78/10000, actions_made: 180 score: 0.0\n",
      "game: 79/10000, actions_made: 311 score: 2.0\n",
      "game: 80/10000, actions_made: 185 score: 0.0\n",
      "game: 81/10000, actions_made: 190 score: 0.0\n",
      "game: 82/10000, actions_made: 303 score: 2.0\n",
      "game: 83/10000, actions_made: 246 score: 2.0\n",
      "game: 84/10000, actions_made: 244 score: 1.0\n",
      "game: 85/10000, actions_made: 279 score: 2.0\n",
      "game: 86/10000, actions_made: 306 score: 2.0\n",
      "game: 87/10000, actions_made: 337 score: 3.0\n",
      "game: 88/10000, actions_made: 241 score: 1.0\n",
      "game: 89/10000, actions_made: 274 score: 2.0\n",
      "game: 90/10000, actions_made: 182 score: 0.0\n",
      "game: 91/10000, actions_made: 231 score: 1.0\n",
      "game: 92/10000, actions_made: 292 score: 2.0\n",
      "game: 93/10000, actions_made: 267 score: 2.0\n"
     ]
    }
   ],
   "source": [
    "%run Model.py\n",
    "\n",
    "modelo = Model(env.unwrapped.get_action_meanings())\n",
    "modelo.run(10000, 2000, env)"
   ]
  }
 ],
 "metadata": {
  "kernelspec": {
   "display_name": "Python 3",
   "language": "python",
   "name": "python3"
  },
  "language_info": {
   "codemirror_mode": {
    "name": "ipython",
    "version": 3
   },
   "file_extension": ".py",
   "mimetype": "text/x-python",
   "name": "python",
   "nbconvert_exporter": "python",
   "pygments_lexer": "ipython3",
   "version": "3.5.4"
  }
 },
 "nbformat": 4,
 "nbformat_minor": 2
}
